{
 "cells": [
  {
   "cell_type": "code",
   "execution_count": null,
   "metadata": {},
   "outputs": [],
   "source": [
    "##Sistemas Expertos Basados en Reglas\n",
    "Este es el tipo de sistemas expertos más sencillo de crear y da solución a problemas determinísticos de los cuales se pueden extraer las reglas de inferencia que permiten brindar una solución a una consulta a partir de ciertas premisas, que son los síntomas que permiten llegar a un diagnóstico. "
   ]
  }
 ],
 "metadata": {
  "kernelspec": {
   "display_name": "Python 3",
   "language": "python",
   "name": "python3"
  },
  "language_info": {
   "codemirror_mode": {
    "name": "ipython",
    "version": 3
   },
   "file_extension": ".py",
   "mimetype": "text/x-python",
   "name": "python",
   "nbconvert_exporter": "python",
   "pygments_lexer": "ipython3",
   "version": "3.7.6"
  }
 },
 "nbformat": 4,
 "nbformat_minor": 4
}
