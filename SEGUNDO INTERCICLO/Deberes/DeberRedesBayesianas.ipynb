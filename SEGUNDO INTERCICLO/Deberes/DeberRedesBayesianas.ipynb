{
 "cells": [
  {
   "cell_type": "markdown",
   "metadata": {},
   "source": [
    "## Redes Bayesianas\n",
    "\n",
    "### Realizar el siguiente ejercicio manualmente\n",
    "\n",
    "- Se tiene dos cajas de bolígrafos. La primera contiene 23\n",
    "bolígrafos azules y 17 rojos, y la segunda contiene 18 azules y\n",
    "5 rojos. Calcular lo siguiente:\n",
    "\n",
    "### a) ¿Cuál es la probabilidad de obtener un bolígrafo azul?\n",
    "\n",
    "<img src='rb1.jpg'>\n",
    "\n",
    "### b) Si el bolígrafo que se obtuvo es rojo, ¿Cuál es la probabilidad de que haya sido obtenido de la caja 2?\n",
    "\n",
    "<img src='rb2.jpg'>\n",
    "\n"
   ]
  },
  {
   "attachments": {},
   "cell_type": "markdown",
   "metadata": {},
   "source": [
    "## Calculadora de Bayes\n",
    " \n",
    " ### Aplicando el ejercicio en la calculadora bayes online da el mismo resultado que la calculadora programada.\n",
    " \n",
    " ### -Calculadora Online                _____________________   _____________________                -Calculadora Programada\n",
    " \n",
    " <img src='br3.PNG'>                                        \n"
   ]
  },
  {
   "cell_type": "markdown",
   "metadata": {},
   "source": [
    "## Se hace la prueba con un ejercicio realizado en clases\n",
    "\n",
    "### En una fábrica de placas Arduino existen tres máquinas (M1, M2y M3). Estas máquinas producen el 27%, 43%, y 30%respectivamente, de todas las tarjetas que genera la fábrica. Elporcentaje de error de las máquinas es 7%, 5% y 4%, respectivamente. Se solicita determinar lo siguiente:\n",
    "\n",
    "### a. Si se toma una tarjeta al azar, ¿Cuál es la probailidad de dicha tarjeta esté defectuosa?\n",
    "### b. Si se toma una tarjeta defectuosa al azar, ¿Cuál es la probabilidad de que haya sido producida por la máquina 2?\n",
    "### c. ¿Qué máquina tiene una mayor probabilidad de producir tarjetas defectuosas?\n",
    "\n",
    " <img src='rb5.PNG'>                                        \n"
   ]
  },
  {
   "cell_type": "code",
   "execution_count": null,
   "metadata": {},
   "outputs": [
    {
     "name": "stderr",
     "output_type": "stream",
     "text": [
      "Exception in Tkinter callback\n",
      "Traceback (most recent call last):\n",
      "  File \"D:\\Users\\leand\\anaconda3\\envs\\IA\\lib\\tkinter\\__init__.py\", line 1705, in __call__\n",
      "    return self.func(*args)\n",
      "  File \"<ipython-input-2-f3c3762db89c>\", line 31, in clear\n",
      "    a1.set(tk.DoubleVar().get())\n",
      "NameError: name 'a1' is not defined\n"
     ]
    }
   ],
   "source": [
    "#CALCULADORA BAYES\n",
    "\n",
    "import tkinter as tk\n",
    "from math import *\n",
    "from functools import partial\n",
    "\n",
    "ventana=tk.Tk()\n",
    "ventana.title('Calculadora Bayes')\n",
    "ventana.geometry('650x600')\n",
    "numAs=tk.IntVar()\n",
    "\n",
    "\n",
    "def calculadora_bayes (lista):\n",
    "    prob_total=0.0\n",
    "    probabilidades=[]\n",
    "    for item in lista:\n",
    "        numa=item[0].get()\n",
    "        numb=item[1].get()\n",
    "        pr=numa*numb\n",
    "        prob_total+=pr\n",
    "        probabilidades.append(pr)\n",
    "        \n",
    "    for i in range(len(probabilidades)):\n",
    "        p1=str(probabilidades[i]/prob_total)\n",
    "        \n",
    "        lista[i][2].config(text=\"Pr(A\"+str(i)+\"/B)= \" + p1)\n",
    "        \n",
    "    \n",
    "\n",
    "def clear():\n",
    "  \n",
    "    for l in list:  \n",
    "        print(l)\n",
    "        l.destroy()\n",
    "    \n",
    "def add_labels(numero=2):\n",
    "    ventana\n",
    "    num_filas=int(numero.get())\n",
    "    x=int(30)\n",
    "    y=int(50)\n",
    "    x_txt=int(80)\n",
    "    y_txt=int(50)\n",
    "    x1=int(250)\n",
    "    y1=int(50)\n",
    "    x_txt1=int(315)\n",
    "    y_txt1=int(50)\n",
    "    x_label=int(460)\n",
    "    var_double=tk.DoubleVar()\n",
    "    valores_array=[]\n",
    "    \n",
    "    for i in range(num_filas):\n",
    "        #String = \"a%d = %0\"%(i,i)\n",
    "\n",
    "        #exec(String)\n",
    "        #print(String)\n",
    "        valor_text=[tk.DoubleVar(),tk.DoubleVar(), tk.Label(ventana) ]\n",
    "        valor_text[2].place(x =x_label , y = y)\n",
    "        tk.Label(ventana, text = \"Pr(A\"+str(i)+\"):\").place(x = x,y = y)\n",
    "        tk.Entry(ventana, textvariable=valor_text[0]).place(x = x_txt, y = y_txt)  \n",
    "        \n",
    "        tk.Label(ventana, text = \"Pr(B/A\"+str(i)+\"):\").place(x = x1, y = y1)\n",
    "        tk.Entry(ventana, textvariable=valor_text[1]).place(x = x_txt1, y = y_txt1)\n",
    "        \n",
    "        valores_array.append(valor_text)\n",
    "        \n",
    "        y=y+int(40)\n",
    "        y_txt=y_txt+int(40)\n",
    "        y1=y1+int(40)\n",
    "        y_txt1=y_txt1+int(40)\n",
    "\n",
    "        \n",
    "    calculadora = partial(calculadora_bayes,valores_array )\n",
    "    \n",
    "    buttonCal = tk.Button(ventana, text=\"Calcular\", command=calculadora).place(x = x, y = y) \n",
    "    buttonClear = tk.Button(ventana, text=\"Limpiar\", command=clear).place(x = x_txt, y = y_txt)\n",
    "\n",
    "\n",
    "add = tk.Entry(ventana, textvariable=numAs).place(x = 250, y = 20)\n",
    "\n",
    "add_labels = partial(add_labels, numAs)\n",
    "buttonAdd = tk.Button(ventana, text=\"Agregar\", command=add_labels).place(x = 380, y = 20) \n",
    "\n",
    "ventana.mainloop()"
   ]
  },
  {
   "cell_type": "markdown",
   "metadata": {},
   "source": []
  }
 ],
 "metadata": {
  "kernelspec": {
   "display_name": "Python 3",
   "language": "python",
   "name": "python3"
  },
  "language_info": {
   "codemirror_mode": {
    "name": "ipython",
    "version": 3
   },
   "file_extension": ".py",
   "mimetype": "text/x-python",
   "name": "python",
   "nbconvert_exporter": "python",
   "pygments_lexer": "ipython3",
   "version": "3.7.7"
  }
 },
 "nbformat": 4,
 "nbformat_minor": 4
}
